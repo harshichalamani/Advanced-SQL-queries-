{
 "cells": [
  {
   "cell_type": "code",
   "execution_count": 84,
   "id": "c26a105a",
   "metadata": {},
   "outputs": [
    {
     "name": "stdout",
     "output_type": "stream",
     "text": [
      "The sql extension is already loaded. To reload it, use:\n",
      "  %reload_ext sql\n"
     ]
    }
   ],
   "source": [
    "%load_ext sql"
   ]
  },
  {
   "cell_type": "code",
   "execution_count": 85,
   "id": "a797b32a",
   "metadata": {},
   "outputs": [
    {
     "name": "stdout",
     "output_type": "stream",
     "text": [
      " * sqlite:///lab2.db\n",
      "Done.\n",
      " * sqlite:///lab2.db\n",
      "Done.\n",
      " * sqlite:///lab2.db\n",
      "10 rows affected.\n",
      " * sqlite:///lab2.db\n",
      "Done.\n",
      " * sqlite:///lab2.db\n",
      "Done.\n",
      " * sqlite:///lab2.db\n",
      "10 rows affected.\n",
      " * sqlite:///lab2.db\n",
      "Done.\n",
      " * sqlite:///lab2.db\n",
      "Done.\n",
      " * sqlite:///lab2.db\n",
      "20 rows affected.\n"
     ]
    },
    {
     "data": {
      "text/plain": [
       "[]"
      ]
     },
     "execution_count": 85,
     "metadata": {},
     "output_type": "execute_result"
    }
   ],
   "source": [
    "%sql sqlite:///lab2.db\n",
    "\n",
    "%sql DROP TABLE Sailors\n",
    "%sql CREATE TABLE Sailors (sid INTEGER PRIMARY KEY,sname TEXT,rating INTEGER,age INTEGER)\n",
    "\n",
    "%sql INSERT INTO Sailors (sid, sname, rating, age) VALUES (1, 'John', 8, 25),(2, 'Jane', 7, 28),(3, 'Mark', 6, 30),(4, 'Emily', 8, 22),(5, 'Michael', 7, 27),(6, 'Sarah', 7, 26),(7, 'Alex', 6, 29),(8, 'Emma', 8, 24),(9, 'Michaela', 7, 31),(10, 'David', 9, 23)\n",
    "\n",
    "%sql DROP TABLE Boats\n",
    "%sql CREATE TABLE Boats (bid INTEGER PRIMARY KEY,name TEXT,color TEXT)\n",
    "\n",
    "\n",
    "\n",
    "%sql INSERT INTO Boats (bid, name, color) VALUES (101, 'Boat1', 'Red'),(102, 'Boat2', 'Blue'),(103, 'Boat3', 'Red'),(104, 'Boat4', 'Green'),(105, 'Boat5', 'Blue'),(106, 'Boat6', 'Red'),(107, 'Boat7', 'Blue'),(108, 'Boat8', 'Red'),(109, 'Boat9', 'Blue'),(110, 'Boat10', 'Green')\n",
    "%sql DROP TABLE Reserves\n",
    "\n",
    "%sql CREATE TABLE Reserves (sid INTEGER,bid INTEGER,day DATE,PRIMARY KEY (sid, bid, day),FOREIGN KEY (sid) REFERENCES Sailors (sid),FOREIGN KEY (bid) REFERENCES Boats (bid))\n",
    "\n",
    "\n",
    "%sql INSERT INTO Reserves (sid, bid, day) VALUES (1, 101, '2023-06-01'),(2, 110, '2023-06-02'),(3, 102, '2023-06-03'),(4, 103, '2023-06-04'),(5, 105, '2023-06-05'),(6, 102, '2023-06-06'),(7, 103, '2023-06-07'),(8, 105, '2023-06-08'),(9, 101, '2023-06-09'),(10, 104, '2023-06-10'),(11, 102, '2023-06-11'),(12, 105, '2023-06-12'),(13, 101, '2023-06-13'),(14, 107, '2023-06-14'),(15, 108, '2023-06-15'),(16, 106, '2023-06-16'),(17, 109, '2023-06-17'),(18, 110, '2023-06-18'),(19, 106, '2023-06-19'),(20, 108, '2023-06-20')"
   ]
  },
  {
   "cell_type": "code",
   "execution_count": 86,
   "id": "9dd94c2d",
   "metadata": {},
   "outputs": [
    {
     "name": "stdout",
     "output_type": "stream",
     "text": [
      " * sqlite:///lab2.db\n",
      "Done.\n"
     ]
    },
    {
     "data": {
      "text/html": [
       "<table>\n",
       "    <thead>\n",
       "        <tr>\n",
       "            <th>sname</th>\n",
       "        </tr>\n",
       "    </thead>\n",
       "    <tbody>\n",
       "        <tr>\n",
       "            <td>Jane</td>\n",
       "        </tr>\n",
       "    </tbody>\n",
       "</table>"
      ],
      "text/plain": [
       "[('Jane',)]"
      ]
     },
     "execution_count": 86,
     "metadata": {},
     "output_type": "execute_result"
    }
   ],
   "source": [
    "%sql SELECT s.sname  FROM Sailors s, Reserves r WHERE r.bid = 110 and r.sid = s.sid"
   ]
  },
  {
   "cell_type": "code",
   "execution_count": 87,
   "id": "96556286",
   "metadata": {},
   "outputs": [
    {
     "name": "stdout",
     "output_type": "stream",
     "text": [
      " * sqlite:///lab2.db\n",
      "Done.\n"
     ]
    },
    {
     "data": {
      "text/html": [
       "<table>\n",
       "    <thead>\n",
       "        <tr>\n",
       "            <th>sname</th>\n",
       "        </tr>\n",
       "    </thead>\n",
       "    <tbody>\n",
       "        <tr>\n",
       "            <td>John</td>\n",
       "        </tr>\n",
       "        <tr>\n",
       "            <td>Emily</td>\n",
       "        </tr>\n",
       "        <tr>\n",
       "            <td>Alex</td>\n",
       "        </tr>\n",
       "        <tr>\n",
       "            <td>Michaela</td>\n",
       "        </tr>\n",
       "    </tbody>\n",
       "</table>"
      ],
      "text/plain": [
       "[('John',), ('Emily',), ('Alex',), ('Michaela',)]"
      ]
     },
     "execution_count": 87,
     "metadata": {},
     "output_type": "execute_result"
    }
   ],
   "source": [
    "%sql SELECT s.sname FROM Sailors s, Reserves r, Boats b WHERE b.color = 'Red' and b.bid = r.bid and r.sid = s.sid\n"
   ]
  },
  {
   "cell_type": "code",
   "execution_count": 88,
   "id": "c0168d0c",
   "metadata": {},
   "outputs": [
    {
     "name": "stdout",
     "output_type": "stream",
     "text": [
      " * sqlite:///lab2.db\n",
      "Done.\n"
     ]
    },
    {
     "data": {
      "text/html": [
       "<table>\n",
       "    <thead>\n",
       "        <tr>\n",
       "            <th>sname</th>\n",
       "        </tr>\n",
       "    </thead>\n",
       "    <tbody>\n",
       "        <tr>\n",
       "            <td>John</td>\n",
       "        </tr>\n",
       "        <tr>\n",
       "            <td>Mark</td>\n",
       "        </tr>\n",
       "        <tr>\n",
       "            <td>Emily</td>\n",
       "        </tr>\n",
       "        <tr>\n",
       "            <td>Michael</td>\n",
       "        </tr>\n",
       "        <tr>\n",
       "            <td>Sarah</td>\n",
       "        </tr>\n",
       "        <tr>\n",
       "            <td>Alex</td>\n",
       "        </tr>\n",
       "        <tr>\n",
       "            <td>Emma</td>\n",
       "        </tr>\n",
       "        <tr>\n",
       "            <td>Michaela</td>\n",
       "        </tr>\n",
       "    </tbody>\n",
       "</table>"
      ],
      "text/plain": [
       "[('John',),\n",
       " ('Mark',),\n",
       " ('Emily',),\n",
       " ('Michael',),\n",
       " ('Sarah',),\n",
       " ('Alex',),\n",
       " ('Emma',),\n",
       " ('Michaela',)]"
      ]
     },
     "execution_count": 88,
     "metadata": {},
     "output_type": "execute_result"
    }
   ],
   "source": [
    "%sql SELECT s.sname FROM Sailors s, Reserves r, Boats b WHERE b.color in ('Red','Blue') and b.bid = r.bid and r.sid = s.sid"
   ]
  },
  {
   "cell_type": "code",
   "execution_count": 89,
   "id": "ab625fc9",
   "metadata": {},
   "outputs": [
    {
     "name": "stdout",
     "output_type": "stream",
     "text": [
      " * sqlite:///lab2.db\n",
      "Done.\n"
     ]
    },
    {
     "data": {
      "text/html": [
       "<table>\n",
       "    <thead>\n",
       "        <tr>\n",
       "            <th>sname</th>\n",
       "        </tr>\n",
       "    </thead>\n",
       "    <tbody>\n",
       "    </tbody>\n",
       "</table>"
      ],
      "text/plain": [
       "[]"
      ]
     },
     "execution_count": 89,
     "metadata": {},
     "output_type": "execute_result"
    }
   ],
   "source": [
    "%%sql \n",
    "SELECT s.sname\n",
    "FROM Sailors s\n",
    "WHERE EXISTS (\n",
    "  SELECT *\n",
    "  FROM Reserves r1\n",
    "  INNER JOIN Boats b1 ON r1.bid = b1.bid\n",
    "  WHERE r1.sid = s.sid AND b1.color = 'Red'\n",
    ") AND EXISTS (\n",
    "  SELECT *\n",
    "  FROM Reserves r2\n",
    "  INNER JOIN Boats b2 ON r2.bid = b2.bid\n",
    "  WHERE r2.sid = s.sid AND b2.color = 'Blue'\n",
    ")\n"
   ]
  },
  {
   "cell_type": "code",
   "execution_count": 80,
   "id": "9608d623",
   "metadata": {},
   "outputs": [
    {
     "name": "stdout",
     "output_type": "stream",
     "text": [
      " * sqlite:///lab2.db\n",
      "Done.\n"
     ]
    },
    {
     "data": {
      "text/html": [
       "<table>\n",
       "    <thead>\n",
       "        <tr>\n",
       "            <th>sname</th>\n",
       "        </tr>\n",
       "    </thead>\n",
       "    <tbody>\n",
       "        <tr>\n",
       "            <td>Mark</td>\n",
       "        </tr>\n",
       "        <tr>\n",
       "            <td>Michael</td>\n",
       "        </tr>\n",
       "        <tr>\n",
       "            <td>Sarah</td>\n",
       "        </tr>\n",
       "        <tr>\n",
       "            <td>Emma</td>\n",
       "        </tr>\n",
       "    </tbody>\n",
       "</table>"
      ],
      "text/plain": [
       "[('Mark',), ('Michael',), ('Sarah',), ('Emma',)]"
      ]
     },
     "execution_count": 80,
     "metadata": {},
     "output_type": "execute_result"
    }
   ],
   "source": [
    "%%sql\n",
    "SELECT s.sname\n",
    "FROM Sailors s\n",
    "LEFT JOIN Reserves r ON s.sid = r.sid\n",
    "LEFT JOIN Boats b ON r.bid = b.bid\n",
    "GROUP BY s.sid\n",
    "HAVING COUNT(*) = SUM(CASE WHEN b.color = 'Blue' THEN 1 ELSE 0 END);"
   ]
  },
  {
   "cell_type": "code",
   "execution_count": 90,
   "id": "5df56f06",
   "metadata": {},
   "outputs": [
    {
     "name": "stdout",
     "output_type": "stream",
     "text": [
      " * sqlite:///lab2.db\n",
      "Done.\n"
     ]
    },
    {
     "data": {
      "text/html": [
       "<table>\n",
       "    <thead>\n",
       "        <tr>\n",
       "            <th>rating</th>\n",
       "            <th>average_age</th>\n",
       "        </tr>\n",
       "    </thead>\n",
       "    <tbody>\n",
       "        <tr>\n",
       "            <td>6</td>\n",
       "            <td>29.5</td>\n",
       "        </tr>\n",
       "        <tr>\n",
       "            <td>7</td>\n",
       "            <td>28.0</td>\n",
       "        </tr>\n",
       "        <tr>\n",
       "            <td>8</td>\n",
       "            <td>23.666666666666668</td>\n",
       "        </tr>\n",
       "    </tbody>\n",
       "</table>"
      ],
      "text/plain": [
       "[(6, 29.5), (7, 28.0), (8, 23.666666666666668)]"
      ]
     },
     "execution_count": 90,
     "metadata": {},
     "output_type": "execute_result"
    }
   ],
   "source": [
    "%%sql\n",
    "SELECT rating, AVG(age) AS average_age\n",
    "FROM Sailors\n",
    "GROUP BY rating\n",
    "HAVING COUNT(*) >= 2;"
   ]
  },
  {
   "cell_type": "code",
   "execution_count": 82,
   "id": "ee4e8421",
   "metadata": {},
   "outputs": [
    {
     "name": "stdout",
     "output_type": "stream",
     "text": [
      " * sqlite:///lab2.db\n",
      "Done.\n"
     ]
    },
    {
     "data": {
      "text/html": [
       "<table>\n",
       "    <thead>\n",
       "        <tr>\n",
       "            <th>sname</th>\n",
       "            <th>average_reservations</th>\n",
       "        </tr>\n",
       "    </thead>\n",
       "    <tbody>\n",
       "        <tr>\n",
       "            <td>John</td>\n",
       "            <td>1.0</td>\n",
       "        </tr>\n",
       "        <tr>\n",
       "            <td>Jane</td>\n",
       "            <td>1.0</td>\n",
       "        </tr>\n",
       "        <tr>\n",
       "            <td>Mark</td>\n",
       "            <td>1.0</td>\n",
       "        </tr>\n",
       "        <tr>\n",
       "            <td>Emily</td>\n",
       "            <td>1.0</td>\n",
       "        </tr>\n",
       "        <tr>\n",
       "            <td>Michael</td>\n",
       "            <td>1.0</td>\n",
       "        </tr>\n",
       "        <tr>\n",
       "            <td>Sarah</td>\n",
       "            <td>1.0</td>\n",
       "        </tr>\n",
       "        <tr>\n",
       "            <td>Alex</td>\n",
       "            <td>1.0</td>\n",
       "        </tr>\n",
       "        <tr>\n",
       "            <td>Emma</td>\n",
       "            <td>1.0</td>\n",
       "        </tr>\n",
       "        <tr>\n",
       "            <td>Michaela</td>\n",
       "            <td>1.0</td>\n",
       "        </tr>\n",
       "        <tr>\n",
       "            <td>David</td>\n",
       "            <td>1.0</td>\n",
       "        </tr>\n",
       "    </tbody>\n",
       "</table>"
      ],
      "text/plain": [
       "[('John', 1.0),\n",
       " ('Jane', 1.0),\n",
       " ('Mark', 1.0),\n",
       " ('Emily', 1.0),\n",
       " ('Michael', 1.0),\n",
       " ('Sarah', 1.0),\n",
       " ('Alex', 1.0),\n",
       " ('Emma', 1.0),\n",
       " ('Michaela', 1.0),\n",
       " ('David', 1.0)]"
      ]
     },
     "execution_count": 82,
     "metadata": {},
     "output_type": "execute_result"
    }
   ],
   "source": [
    "%%sql\n",
    "SELECT s.sname, AVG(reservations) AS average_reservations\n",
    "FROM Sailors s\n",
    "LEFT JOIN (\n",
    "  SELECT sid, COUNT(*) AS reservations\n",
    "  FROM Reserves\n",
    "  GROUP BY sid\n",
    ") r ON s.sid = r.sid\n",
    "GROUP BY s.sid;"
   ]
  },
  {
   "cell_type": "code",
   "execution_count": 91,
   "id": "3973e8fb",
   "metadata": {},
   "outputs": [
    {
     "name": "stdout",
     "output_type": "stream",
     "text": [
      " * sqlite:///lab2.db\n",
      "Done.\n"
     ]
    },
    {
     "data": {
      "text/html": [
       "<table>\n",
       "    <thead>\n",
       "        <tr>\n",
       "            <th>name</th>\n",
       "        </tr>\n",
       "    </thead>\n",
       "    <tbody>\n",
       "        <tr>\n",
       "            <td>Boat5</td>\n",
       "        </tr>\n",
       "    </tbody>\n",
       "</table>"
      ],
      "text/plain": [
       "[('Boat5',)]"
      ]
     },
     "execution_count": 91,
     "metadata": {},
     "output_type": "execute_result"
    }
   ],
   "source": [
    "%%sql\n",
    "SELECT b.name\n",
    "FROM Boats b\n",
    "INNER JOIN (\n",
    "  SELECT bid, COUNT(*) AS reservations\n",
    "  FROM Reserves\n",
    "  GROUP BY bid\n",
    "  ORDER BY reservations DESC\n",
    "  LIMIT 1\n",
    ") r ON b.bid = r.bid;"
   ]
  },
  {
   "cell_type": "code",
   "execution_count": null,
   "id": "88865d21",
   "metadata": {},
   "outputs": [],
   "source": []
  }
 ],
 "metadata": {
  "kernelspec": {
   "display_name": "Python 3 (ipykernel)",
   "language": "python",
   "name": "python3"
  },
  "language_info": {
   "codemirror_mode": {
    "name": "ipython",
    "version": 3
   },
   "file_extension": ".py",
   "mimetype": "text/x-python",
   "name": "python",
   "nbconvert_exporter": "python",
   "pygments_lexer": "ipython3",
   "version": "3.10.9"
  }
 },
 "nbformat": 4,
 "nbformat_minor": 5
}
